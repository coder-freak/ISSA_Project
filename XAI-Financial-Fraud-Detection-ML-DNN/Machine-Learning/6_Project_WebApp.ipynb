{
  "cells": [
    {
      "cell_type": "markdown",
      "metadata": {
        "id": "WrtFdcGnZXeV"
      },
      "source": [
        "# Link: [Fraud Predictor Streamlit Web App](https://chaithanyavamshi-fraud-predictor-app-streamlit-app-qy0hjs.streamlitapp.com/)"
      ]
    },
    {
      "cell_type": "markdown",
      "metadata": {
        "id": "BLPIxq4NQf7K"
      },
      "source": [
        "# Streamlit Installation"
      ]
    },
    {
      "cell_type": "code",
      "execution_count": 1,
      "metadata": {
        "id": "gWCMzHHd73Ea"
      },
      "outputs": [],
      "source": [
        "!pip install streamlit -q"
      ]
    },
    {
      "cell_type": "code",
      "execution_count": 2,
      "metadata": {
        "colab": {
          "base_uri": "https://localhost:8080/"
        },
        "id": "olG40mQ3lUJx",
        "outputId": "9faa988d-c734-4297-9868-72d7723b3d6c"
      },
      "outputs": [
        {
          "name": "stdout",
          "output_type": "stream",
          "text": [
            "Looking in indexes: https://pypi.org/simple, https://us-python.pkg.dev/colab-wheels/public/simple/\n",
            "Requirement already satisfied: pyngrok in /usr/local/lib/python3.7/dist-packages (5.1.0)\n",
            "Requirement already satisfied: PyYAML in /usr/local/lib/python3.7/dist-packages (from pyngrok) (6.0)\n"
          ]
        }
      ],
      "source": [
        "!pip install pyngrok"
      ]
    },
    {
      "cell_type": "markdown",
      "metadata": {
        "id": "QRHtBHJ7Qq9P"
      },
      "source": [
        "# Streamlit - Python Web App Script"
      ]
    },
    {
      "cell_type": "code",
      "execution_count": 8,
      "metadata": {
        "colab": {
          "base_uri": "https://localhost:8080/"
        },
        "id": "_n3tGwlaGtCk",
        "outputId": "a85244e4-95af-4bfb-a3d6-a79d0463b92a"
      },
      "outputs": [
        {
          "name": "stdout",
          "output_type": "stream",
          "text": [
            "Overwriting app.py\n"
          ]
        }
      ],
      "source": [
        "%%writefile app.py\n",
        "import numpy as np\n",
        "import pickle\n",
        "import time\n",
        "import streamlit as st\n",
        "\n",
        "\n",
        "# loading the saved model\n",
        "loaded_model = pickle.load(open('/content/final_model.sav', 'rb'))\n",
        "\n",
        "\n",
        "\n",
        "\n",
        "# creating a function for Prediction\n",
        "\n",
        "@st.cache(persist=True)\n",
        "def predict_fraud(card1,card2,card4,card6,addr1,addr2,TransactionAmt,P_emaildomain,ProductCD,DeviceType):\n",
        "  input=np.array([[card1,card2,card4,card6,addr1,addr2,TransactionAmt,P_emaildomain,ProductCD,DeviceType]])\n",
        "\n",
        "  prediction=loaded_model.predict_proba(input)\n",
        "  pred='{0:.{1}f}'.format(prediction[0][0], 2)\n",
        "  return float(pred)\n",
        "\n",
        "\n",
        "  \n",
        "def main():\n",
        "  \n",
        "  \n",
        "  html_temp = \"\"\"\n",
        "        <div style=\"background-color:#000000 ;padding:10px\">\n",
        "        <h1 style=\"color:white;text-align:center;\">Financial Transaction Fraud Prediction ML Web App 💰 </h1>\n",
        "        </div>\n",
        "     \"\"\"\n",
        "  st.markdown(html_temp, unsafe_allow_html=True)\n",
        " \n",
        "  from PIL import Image\n",
        "  image = Image.open('/content/home_banner.PNG')\n",
        "\n",
        "  st.image(image, caption='Impacting the World of Finance and Banking with Artificial Intelligence (AI)')\n",
        "\n",
        "  # getting the input data from the user\n",
        "  st.sidebar.title(\"Financial Transaction Fraud Prediction System 🕵️\")\n",
        "  st.sidebar.subheader(\"Choose the Below Parameters to Predict a Financial Transaction\")\n",
        "\n",
        "  #TransactionAmt\n",
        "  st.sidebar.markdown(\"### Transaction Amount\")\n",
        "  TransactionAmt = st.sidebar.number_input(\"Choose the Transaction Amount in USD\",0,20000,step =1)\n",
        " \n",
        "  \n",
        "  #card1 \n",
        "  st.sidebar.markdown(\"### Payment Card 1\")\n",
        "  card1 = st.sidebar.number_input(\"Choose the Payment Card 1 Amount (USD)\",0,20000,step = 1)\n",
        "\n",
        "  #card2 \n",
        "  st.sidebar.markdown(\"### Payment Card 2\")\n",
        "  card2 = st.sidebar.number_input(\"Choose the Payment Card 2 Amount (USD)\",0,20000,step = 1)\n",
        "\n",
        "  #card4\n",
        "  st.sidebar.markdown(\"### Payment Card Category\")\n",
        "  card4 = st.sidebar.radio(\"Choose the Payment Card Category\",[1,2,3,4])\n",
        "  st.sidebar.info(\"1 : Discover | 2 : Mastercard | 3 : American Express | 4 : Visa\")\n",
        "\n",
        "  #card6\n",
        "  st.sidebar.markdown(\"### Payment Card Type\")\n",
        "  card6 = st.sidebar.radio(\"Choose the Payment Card Type\",[1,2])\n",
        "  st.sidebar.info(\"1 : Credit | 2 : Debit\")\n",
        "\n",
        "   #addr1\n",
        "  st.sidebar.markdown(\"### Billing Zip Code\")\n",
        "  addr1 = st.sidebar.slider(\"Choose the Payment Billing Zip Code\",0,500,step =1)\n",
        "\n",
        "\n",
        "  #addr2\n",
        "  st.sidebar.markdown(\"### Billing Country Code\")\n",
        "  addr2 = st.sidebar.slider(\"Choose the Payment Billing Country Code\",0,100,step =1)\n",
        " \n",
        "  #P_emaildomain\n",
        "  st.sidebar.markdown(\"### Purchaser Email Domain\")\n",
        "  P_emaildomain = st.sidebar.selectbox(\"Choose the Purchaser Email Domain\", [0,1,2,3,4])\n",
        "  st.sidebar.info(\"0 : Gmail (Google) | 1 : Outlook (Microsoft)  | 2 : Mail.com | 3 : Others | 4 : Yahoo\")\n",
        " \n",
        "  #ProductCD\n",
        "  st.sidebar.markdown(\"### Product Code\")\n",
        "  ProductCD = st.sidebar.selectbox(\"Choose the Product Code\",[0,1,2,3,4])\n",
        "  st.sidebar.info(\"0 : C | 1 : H | 2 : R | 3 : S | 4 : W\")\n",
        "\n",
        "  #DeviceType\n",
        "  st.sidebar.markdown(\"### Device Type\")\n",
        "  DeviceType = st.sidebar.radio(\"Choose the Payment Device Type\",[1,2])\n",
        "  st.sidebar.info(\"1 : Mobile | 2 : Desktop\")\n",
        "    \n",
        "  \n",
        "\n",
        "  safe_html = \"\"\" \n",
        "    <img src=\"https://media.giphy.com/media/g9582DNuQppxC/giphy.gif\" alt=\"confirmed\" style=\"width:698px;height:350px;\"> \n",
        "    \"\"\"\n",
        "\n",
        "  danger_html = \"\"\"  \n",
        "    <img src=\"https://media.giphy.com/media/8ymvg6pl1Lzy0/giphy.gif\" alt=\"cancel\" style=\"width:698px;height:350px;\">\n",
        "    \"\"\"\n",
        "\n",
        " \n",
        "  # creating a button for Prediction\n",
        "   \n",
        "  if st.button(\"Click Here To Predict\"):\n",
        "    output = predict_fraud(card1,card2,card4,card6,addr1,addr2,TransactionAmt,P_emaildomain,ProductCD,DeviceType)\n",
        "    final_output = output * 100\n",
        "    st.subheader('Probability Score of Financial Transaction is {}% '.format(final_output))\n",
        "\n",
        "    if final_output > 75.0:\n",
        "      st.markdown(danger_html, unsafe_allow_html=True)\n",
        "      st.error(\"**OMG! Financial Transaction is Fraud**\")\n",
        "    else:\n",
        "      st.balloons()\n",
        "      time.sleep(5)\n",
        "      st.balloons()\n",
        "      time.sleep(5)\n",
        "      st.balloons()\n",
        "      st.markdown(safe_html, unsafe_allow_html=True)\n",
        "      st.success(\"**Hurray! Transaction is Legitimate**\")\n",
        "    \n",
        "if __name__ == '__main__':\n",
        "    main()"
      ]
    },
    {
      "cell_type": "code",
      "execution_count": 4,
      "metadata": {
        "id": "oVSnCQh9lfPy"
      },
      "outputs": [],
      "source": [
        "from pyngrok import ngrok\n",
        "ngrok.set_auth_token(\"2EE0dDo8S9ihJeGTe8Dj5ZSzYM7_vEwQBGQokbZaQ2bZ6HBJ\") #ngrok.com\n",
        "#!ngrok authtoken 2EE0dDo8S9ihJeGTe8Dj5ZSzYM7_vEwQBGQokbZaQ2bZ6HBJ"
      ]
    },
    {
      "cell_type": "code",
      "execution_count": 5,
      "metadata": {
        "colab": {
          "base_uri": "https://localhost:8080/"
        },
        "id": "Md6Ray4ymW_j",
        "outputId": "0f6fccba-dc07-4aee-96f6-f936465ac0a6"
      },
      "outputs": [
        {
          "name": "stdout",
          "output_type": "stream",
          "text": [
            "nohup: appending output to 'nohup.out'\n",
            "NgrokTunnel: \"http://8d85-34-125-14-198.ngrok.io\" -> \"http://localhost:80\"\n"
          ]
        }
      ],
      "source": [
        "!nohup streamlit run app.py --server.port 80 &\n",
        "url = ngrok.connect(port = '80')\n",
        "print(url)"
      ]
    },
    {
      "cell_type": "code",
      "execution_count": null,
      "metadata": {
        "colab": {
          "base_uri": "https://localhost:8080/"
        },
        "id": "2YXV5uD1wbJh",
        "outputId": "0409d7c6-766d-4bbb-9d49-43c42b6b57e9"
      },
      "outputs": [
        {
          "data": {
            "text/plain": [
              "[<NgrokTunnel: \"https://c6ce-34-125-243-125.ngrok.io\" -> \"http://localhost:80\">,\n",
              " <NgrokTunnel: \"http://c6ce-34-125-243-125.ngrok.io\" -> \"http://localhost:80\">]"
            ]
          },
          "execution_count": 6,
          "metadata": {},
          "output_type": "execute_result"
        }
      ],
      "source": [
        "from pyngrok import ngrok\n",
        "\n",
        "tunnels = ngrok.get_tunnels()\n",
        "tunnels\n",
        "\n",
        "# try:\n",
        "#     # Block until CTRL-C or some other terminating event\n",
        "#     ngrok_process.proc.wait()\n",
        "# except KeyboardInterrupt:\n",
        "#     print(\" Shutting down server.\")"
      ]
    },
    {
      "cell_type": "code",
      "execution_count": null,
      "metadata": {
        "id": "m1egSjQow6c-"
      },
      "outputs": [],
      "source": [
        "ngrok.kill()"
      ]
    },
    {
      "cell_type": "code",
      "execution_count": null,
      "metadata": {
        "id": "bqKHeKfb9Lk0"
      },
      "outputs": [],
      "source": [
        "#!streamlit run app.py & npx localtunnel --port 8501"
      ]
    },
    {
      "cell_type": "code",
      "execution_count": null,
      "metadata": {
        "id": "UNUexHwwUoGT"
      },
      "outputs": [],
      "source": [
        "#!pip freeze > requirements.txt"
      ]
    },
    {
      "cell_type": "code",
      "execution_count": null,
      "metadata": {
        "id": "r5ZoudQ2U1_k"
      },
      "outputs": [],
      "source": [
        "#!cat requirements.txt"
      ]
    }
  ],
  "metadata": {
    "colab": {
      "collapsed_sections": [],
      "provenance": []
    },
    "kernelspec": {
      "display_name": "Python 3",
      "name": "python3"
    },
    "language_info": {
      "name": "python"
    }
  },
  "nbformat": 4,
  "nbformat_minor": 0
}
